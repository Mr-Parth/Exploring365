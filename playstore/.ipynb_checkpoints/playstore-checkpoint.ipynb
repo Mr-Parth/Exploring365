{
 "cells": [
  {
   "cell_type": "markdown",
   "metadata": {},
   "source": [
    "<center><h1 style=\"color:blue\"><b>Google Playstore EDA</b></h1></center>"
   ]
  },
  {
   "cell_type": "markdown",
   "metadata": {},
   "source": [
    "### In this notebook, we are aiming to understand the trend of current Google Playstore market.  \n",
    "\n",
    "<i>But Why ???</i>   \n",
    "\n",
    "<b>Because as a developer, I should know the best constraints to focus on when launching my first app :D .  \n",
    "    And I definitely have no intention of getting lost in this vast ocean of versatile apps XD</b>  \n",
    "\n",
    "So stay with me on this short journey. \n",
    "    "
   ]
  },
  {
   "cell_type": "code",
   "execution_count": 400,
   "metadata": {},
   "outputs": [
    {
     "ename": "ImportError",
     "evalue": "No module named 'missingno'",
     "output_type": "error",
     "traceback": [
      "\u001b[0;31m---------------------------------------------------------------------------\u001b[0m",
      "\u001b[0;31mImportError\u001b[0m                               Traceback (most recent call last)",
      "\u001b[0;32m<ipython-input-400-5f15be7b41c4>\u001b[0m in \u001b[0;36m<module>\u001b[0;34m()\u001b[0m\n\u001b[1;32m      8\u001b[0m \u001b[0mget_ipython\u001b[0m\u001b[0;34m(\u001b[0m\u001b[0;34m)\u001b[0m\u001b[0;34m.\u001b[0m\u001b[0mrun_line_magic\u001b[0m\u001b[0;34m(\u001b[0m\u001b[0;34m'matplotlib'\u001b[0m\u001b[0;34m,\u001b[0m \u001b[0;34m'inline'\u001b[0m\u001b[0;34m)\u001b[0m\u001b[0;34m\u001b[0m\u001b[0m\n\u001b[1;32m      9\u001b[0m \u001b[0msns\u001b[0m\u001b[0;34m.\u001b[0m\u001b[0mset\u001b[0m\u001b[0;34m(\u001b[0m\u001b[0mstyle\u001b[0m\u001b[0;34m=\u001b[0m\u001b[0;34m\"whitegrid\"\u001b[0m\u001b[0;34m)\u001b[0m\u001b[0;34m\u001b[0m\u001b[0m\n\u001b[0;32m---> 10\u001b[0;31m \u001b[0;32mimport\u001b[0m \u001b[0mmissingno\u001b[0m \u001b[0;32mas\u001b[0m \u001b[0mmsno\u001b[0m\u001b[0;34m\u001b[0m\u001b[0m\n\u001b[0m\u001b[1;32m     11\u001b[0m \u001b[0;31m#Interactive\u001b[0m\u001b[0;34m\u001b[0m\u001b[0;34m\u001b[0m\u001b[0m\n\u001b[1;32m     12\u001b[0m \u001b[0;32mfrom\u001b[0m \u001b[0mIPython\u001b[0m\u001b[0;34m.\u001b[0m\u001b[0mcore\u001b[0m\u001b[0;34m.\u001b[0m\u001b[0minteractiveshell\u001b[0m \u001b[0;32mimport\u001b[0m \u001b[0mInteractiveShell\u001b[0m\u001b[0;34m\u001b[0m\u001b[0m\n",
      "\u001b[0;31mImportError\u001b[0m: No module named 'missingno'"
     ]
    }
   ],
   "source": [
    "#importing required packages\n",
    "import pandas as pd\n",
    "import seaborn as sns\n",
    "import matplotlib.pyplot as plt\n",
    "import warnings\n",
    "import numpy as np\n",
    "warnings.filterwarnings(\"ignore\")\n",
    "%matplotlib inline\n",
    "sns.set(style=\"whitegrid\")\n",
    "import missingno as msno\n",
    "#Interactive\n",
    "from IPython.core.interactiveshell import InteractiveShell\n",
    "InteractiveShell.ast_node_interactivity = \"all\"\n",
    "from IPython.display import display, HTML"
   ]
  },
  {
   "cell_type": "code",
   "execution_count": null,
   "metadata": {},
   "outputs": [],
   "source": [
    "HTML('''<script>\n",
    "code_show=true; \n",
    "function code_toggle() {\n",
    " if (code_show){\n",
    " $('div.input').hide();\n",
    " } else {\n",
    " $('div.input').show();\n",
    " }\n",
    " code_show = !code_show\n",
    " $('div.cell.code_cell.rendered.selected div.input').hide();\n",
    "} \n",
    "$( document ).ready(code_toggle);\n",
    "</script>\n",
    "<form action=\"javascript:code_toggle()\"><input type=\"submit\" class=\"btn btn-primary\" value=\"Click here to toggle on/off the raw code.\"></form>''')"
   ]
  },
  {
   "cell_type": "markdown",
   "metadata": {},
   "source": [
    "## Description of Dataset"
   ]
  },
  {
   "cell_type": "markdown",
   "metadata": {},
   "source": [
    "<h3>We are going to use a simple csv file \"Playstore.csv\", available on Kaggle.  \n",
    "Before getting into actual <i>movie</i>, let's have a look at our main characters :- </h3> \n",
    "\n",
    "    1) App :- Name of the App\n",
    "    2) Category :- Category under which the App falls.\n",
    "    3) Rating :- Application's rating on playstore\n",
    "    4) Reviews :- Number of reviews of the App.\n",
    "    5) Size :- Size of the App.\n",
    "    6) Install :- Number of Installs of the App\n",
    "    7) Type :- If the App is free/paid\n",
    "    8) Price :- Price of the app (0 if it is Free)\n",
    "    9) Content Rating :- Appropiate Target Audience of the App.\n",
    "    10) Genres:- Genre under which the App falls.\n",
    "    11) Last Updated :- Date when the App was last updated\n",
    "    12) Current Ver :- Current Version of the Application\n",
    "    13) Android Ver :- Minimum Android Version required to run the App\n",
    "    \n",
    "<i>So now we know our characters and a basic plot, lets start our movie with no more delay. </i>"
   ]
  },
  {
   "cell_type": "code",
   "execution_count": null,
   "metadata": {},
   "outputs": [],
   "source": [
    "#Reading data\n",
    "storedata = pd.read_csv(\"Playstore.csv\")\n",
    "\n",
    "print(\"\\n First 7 rows in our dataset\")\n",
    "display(storedata.head(7))\n",
    "\n",
    "print(\"\\n Number of rows in our dataset = \" + str(storedata.shape[0]))"
   ]
  },
  {
   "cell_type": "markdown",
   "metadata": {},
   "source": [
    "## Features Engineering  \n",
    "\n",
    "Like any other movie, our movie will also revolve around one main character. In this story, it is <b>'Installs'</b>. We will see who all character are his friends, foes and the ones who just doesn;t care about him.   \n",
    "\n",
    "As we can see from the beginning Genres are Category are somewhat same. So we can omit Category as Genres present all its relevant information along with sub-categories. <i> Sayonara Category </i>  \n",
    "\n",
    "Before getting into action part, our favourite <i>visualization</i> part, we will transform our character to a state where it is really easy for them to do all cool actions and deliver us amazing visualizations.\n",
    "\n",
    "    1) As far as I can understand, 'last updated' gives us to know if the developers are still improving this     app or moved on to some other work. So we can just update our data accordingly to easily represent that.\n",
    "    2) 'Android Ver.' can be represented more easily to use it in visualization.\n",
    "\n",
    "Ok ... Let's continue !!\n",
    "    "
   ]
  },
  {
   "cell_type": "code",
   "execution_count": null,
   "metadata": {},
   "outputs": [],
   "source": [
    "#Last Updated to (Month, Year) to number\n",
    "storedata['Last Updated'] = pd.to_datetime(storedata['Last Updated'],format='%B %d, %Y',errors='coerce').astype('str')\n",
    "\n",
    "def split_mul(data):\n",
    "    try:\n",
    "        data=list(map(int,data.split('-')))\n",
    "        return data[0]+(data[1]*12)+data[2]\n",
    "    except:\n",
    "        return \"Nan\"\n",
    "storedata['Last Updated'] = [split_mul(x) for x in storedata['Last Updated']]\n",
    "\n",
    "#Improve 'Android Ver' and 'Installs' representation\n",
    "storedata[\"Android Ver\"] = storedata[\"Android Ver\"].str.split(n=1, expand=True)\n",
    "\n",
    "def deal_with_abnormal_strings(data):\n",
    "    data[data.str.isnumeric()==False]=-1\n",
    "    data=data.astype(np.float32)\n",
    "    return data\n",
    "\n",
    "storedata.Installs = [x.strip().replace('+', '').replace(',','') for x in storedata.Installs]\n",
    "storedata.Installs = deal_with_abnormal_strings(storedata.Installs)\n",
    "\n",
    "storedata.Size = [x.strip().replace('M', '').replace(',','') for x in storedata.Size]\n",
    "\n",
    "def convert_float(val):\n",
    "    try:\n",
    "        return float(val)\n",
    "    except ValueError:\n",
    "        try:\n",
    "            val=val.split('.')\n",
    "            return float(val[0]+'.'+val[1])\n",
    "        except:\n",
    "            return np.nan\n",
    "\n"
   ]
  },
  {
   "cell_type": "code",
   "execution_count": null,
   "metadata": {},
   "outputs": [],
   "source": [
    "storedata.head(7)"
   ]
  },
  {
   "cell_type": "markdown",
   "metadata": {},
   "source": [
    "## Visulaizations \n",
    "\n",
    "Now we'll get into the fun part. We will try different visualization techniques to understand the life of our hero \"Installs\" and other characters."
   ]
  },
  {
   "cell_type": "code",
   "execution_count": null,
   "metadata": {},
   "outputs": [],
   "source": [
    "#Number of categories of apps in the store.....\n",
    "def plot_number_category():\n",
    "    fig, ax = plt.subplots()\n",
    "    fig.set_size_inches(15, 7)\n",
    "    fig.autofmt_xdate()\n",
    "    countplot=sns.categorical.countplot(storedata.Category,ax=ax)\n",
    "    plt.show(countplot)\n",
    "\n",
    "plot_number_category()\n",
    "\n",
    "# Tabular representation\n",
    "top_cat=storedata.groupby('Category').size().reset_index(name='Count').nlargest(6,'Count')\n",
    "display(top_cat)\n"
   ]
  },
  {
   "cell_type": "markdown",
   "metadata": {},
   "source": [
    "Now we know that 'Family' and 'Game' category rules the playstore market, followed by Tools,Medical and Business.\n",
    "<b>Okay Cool ..... </b> Developers understand our daily requirements and filling the market by similar apps.\n",
    "So lets compare this 5 apps with their actual installs."
   ]
  },
  {
   "cell_type": "code",
   "execution_count": null,
   "metadata": {
    "scrolled": true
   },
   "outputs": [],
   "source": [
    "\n",
    "\n",
    "cat=top_cat.Category.tolist()\n",
    "data_top6=storedata.groupby('Category')['Installs'].agg('sum').loc[cat].reset_index(name='Number_Installations')\n",
    "data=storedata.groupby('Category')['Installs'].agg('sum').reset_index(name='Number_Installations')\n",
    "\n",
    "#Comparing top 5 category on the basis of 'Installs'\n",
    "def compare_6(data):\n",
    "    fig = plt.figure(figsize=(12,4))\n",
    "    title=plt.title('Comparing top 5 category on the basis of Installs')\n",
    "    bar=sns.barplot(y=data['Category'],x=data['Number_Installations'])\n",
    "    plt.show(bar)\n",
    "\n",
    "#Comparing all categoryies on the basis of 'Installs'\n",
    "def compare_all(data):\n",
    "    fig = plt.figure(figsize=(12,7))\n",
    "    title=plt.title('Comparing all categories on the basis of Installs')\n",
    "    bar=sns.barplot(y=data['Category'],x=data['Number_Installations'])\n",
    "    plt.show(bar)\n",
    "    \n",
    "compare_6(data_top6)\n",
    "\n"
   ]
  },
  {
   "cell_type": "code",
   "execution_count": null,
   "metadata": {},
   "outputs": [],
   "source": [
    "compare_all(data)"
   ]
  },
  {
   "cell_type": "code",
   "execution_count": null,
   "metadata": {},
   "outputs": [],
   "source": [
    "print('\\nTabular Rep.Of Top 5 Number of Installation by Category')\n",
    "display(data.nlargest(6,'Number_Installations'))"
   ]
  },
  {
   "cell_type": "markdown",
   "metadata": {},
   "source": [
    "<b>Woww...</b> Family betrayed our 'Installs'.As we have seen so far, list of Top 6 Categories (acc. to number of apps developed) and Top 6 categories (acc. to number of Installs) differ a lot.  \n",
    "We can feel this story. As a developer, we can use this information to decide our future projects.  \n",
    "\n",
    "Till now, our movie has been building slowly. Now let's increase its pace and see the relationship of our hero 'Installs' with other characters......"
   ]
  },
  {
   "cell_type": "code",
   "execution_count": null,
   "metadata": {
    "scrolled": true
   },
   "outputs": [],
   "source": [
    "#features to use for correlation\n",
    "corr_cat=['Rating','Reviews','Size','Installs','Current Ver','Android Ver','Last Updated']\n",
    "for i in corr_cat:\n",
    "    storedata[i]=storedata[i].apply(lambda x: convert_float(x)) #To get it compatible to check correlation\n",
    "\n",
    "correlation = storedata[corr_cat].corr()\n",
    "\n",
    "print(\"\\n Correlation of Installs with other selected features \")\n",
    "display(correlation['Installs'].sort_values(ascending=False))\n",
    "\n"
   ]
  },
  {
   "cell_type": "code",
   "execution_count": null,
   "metadata": {},
   "outputs": [],
   "source": [
    "#Correlation Heatmap \n",
    "f , ax = plt.subplots(figsize = (14,12))\n",
    "title=plt.title('Correlation of Numeric Features with Installs',y=1,size=16)\n",
    "heatmap=sns.heatmap(correlation,square = True,  vmax=0.8)\n",
    "plt.show(heatmap)"
   ]
  },
  {
   "cell_type": "markdown",
   "metadata": {},
   "source": [
    "<b>Are you surprised ???? </b>  \n",
    "I am .. 'Installs' is really so alone. No neighbour cares about him. They all are completely uncorrelated except Reviews. Reviews seems to have some effect on number of Installs. <b>BUT WAIT</b>  We can be wrong here. It seems to be a minor data leakage condition. With more installs comes more reviews. So they are more codependant.   \n",
    "\n",
    "<i>There's still some hope for our hero. We'll have happy ending. Let's check the categorical features for some positive information. Hang on ;)</i>"
   ]
  },
  {
   "cell_type": "code",
   "execution_count": null,
   "metadata": {
    "scrolled": false
   },
   "outputs": [],
   "source": [
    "install_sum_content=storedata.groupby('Content Rating')['Installs'].agg('sum').reset_index(name='Number_Installations')\n",
    "app_sum_content=data=storedata.groupby('Content Rating')['Installs'].size().reset_index(name='Number_Apps')\n",
    "\n",
    "def content_bar_sum(data):\n",
    "    fig=plt.figure(figsize=(12,6))\n",
    "    \n",
    "    title=plt.title('Comparision of content ratings (Number of Installations)')\n",
    "    content_bar = sns.barplot(x=data['Content Rating'],y=data['Number_Installations'])\n",
    "    plt.show(content_bar)\n",
    "    \n",
    "def content_bar_count(data):\n",
    "    fig=plt.figure(figsize=(12,6))\n",
    "    \n",
    "    title=plt.title('Comparision of content ratings (Number of Apps in Market)')\n",
    "    content_bar = sns.barplot(x=data['Content Rating'],y=data['Number_Apps'])\n",
    "    plt.show(content_bar)\n",
    "    \n",
    "content_bar_sum(install_sum_content)\n",
    "content_bar_count(app_sum_content)\n"
   ]
  },
  {
   "cell_type": "markdown",
   "metadata": {},
   "source": [
    "Okay !! It seems like 'Everyone' is the only choice for us to prefer. But no.... let's dive into this two graphs more to get good intel. Number of 'Teen' Apps are few as compared to 'Everyone' but when we check its 'Number of Installations', it seems like a good second best choice. <b>Few apps but Considerable Installations</b>  \n",
    "Ahaaa !! Our hero 'Install' just got his first good partner XD. Let's interrogate him."
   ]
  },
  {
   "cell_type": "code",
   "execution_count": null,
   "metadata": {},
   "outputs": [],
   "source": [
    "#Temporary dataframe with improved comparision metric for content rating\n",
    "content=pd.DataFrame()\n",
    "content['Content Rating'] = app_sum_content['Content Rating']\n",
    "content['No_Installations/Total_Apps']=install_sum_content['Number_Installations']/app_sum_content['Number_Apps']"
   ]
  },
  {
   "cell_type": "code",
   "execution_count": null,
   "metadata": {},
   "outputs": [],
   "source": [
    "#Visualize content\n",
    "figure=plt.figure(figsize=(12,7))\n",
    "title=plt.title('Content Rating Comparision')\n",
    "bar=sns.barplot(x=content['Content Rating'],y=content['No_Installations/Total_Apps'])\n",
    "plt.show(bar)"
   ]
  },
  {
   "cell_type": "markdown",
   "metadata": {},
   "source": [
    "Ahhaaa !!! Isn't that like a suspensive movie twist ;)  \n",
    "By a little tweak, we have got a completely different story. 'Everyone' is an easy option but 'Teen' and '10+' are the most rewarding.  \n",
    "And so, our hero 'Installs' moves forward on his journey. He has two paths to go :- 'Free' and 'Paid'. Let's see what happens now and what moves our hero."
   ]
  },
  {
   "cell_type": "code",
   "execution_count": null,
   "metadata": {},
   "outputs": [],
   "source": [
    "install_sum_type=storedata.groupby('Type')['Installs'].agg('sum').reset_index(name='Number_Installations')\n",
    "\n",
    "def type_bar_sum(data):\n",
    "    fig=plt.figure(figsize=(12,6))\n",
    "    \n",
    "    title=plt.title('Comparision of  types (Number of Installations)')\n",
    "    content_bar = sns.barplot(x=data['Type'],y=data['Number_Installations'])\n",
    "    plt.show(content_bar)\n",
    "type_bar_sum(install_sum_type)"
   ]
  },
  {
   "cell_type": "markdown",
   "metadata": {},
   "source": [
    "Yea... I know ... It was a boring part... It turns that in our storyline we have only one path ... 'Free' one....  \n",
    "\n",
    "Have you ever wondered if the name of the App plays an impact on its number of installations!!!  \n",
    "Let's feed our curiousity.  \n",
    "<i>We'll make a feature column like :- App name greater than 2 words or not, and visualize the comparisions</i>"
   ]
  },
  {
   "cell_type": "code",
   "execution_count": null,
   "metadata": {},
   "outputs": [],
   "source": [
    "storedata['Name_check']=['>2 words' if len(x.split())>2 else '<=2words' for x in storedata['App'] ]\n",
    "\n",
    "data_install= storedata.groupby('Name_check')['Installs'].agg('sum').reset_index(name='Number_Installations')\n",
    "data_apps= storedata.groupby('Name_check').size().reset_index(name='Number_Apps')\n",
    "\n",
    "\n",
    "fig,axes = plt.subplots(figsize=(15,3),ncols=2, nrows=1)\n",
    "\n",
    "title=axes[0].set_title(\"No. of Installations\", y = 1.1)\n",
    "title=axes[1].set_title(\"No of Apps\", y = 1.1)\n",
    "\n",
    "plot1=sns.barplot( x=data_install['Name_check'],y=data_install['Number_Installations'] , ax=axes[0])\n",
    "\n",
    "plot2=sns.barplot( x=data_apps['Name_check'],y=data_apps['Number_Apps'] , ax=axes[1])\n",
    "\n",
    "plt.show(fig)\n",
    "\n",
    "# No. of installation / No. of apps\n",
    "\n",
    "figure=plt.figure(figsize=(12,5))\n",
    "title=plt.title(\"Installations/Total Apps\", y = 1.0)\n",
    "plot3=sns.barplot( x=data_apps['Name_check'],y=data_install['Number_Installations']/data_apps['Number_Apps'] ,palette=sns.color_palette(palette=\"Set1\",n_colors=2,desat=.8))\n",
    "plt.show(figure)"
   ]
  },
  {
   "cell_type": "markdown",
   "metadata": {},
   "source": [
    "As our visualizations speak, it is better to have a small name for our app. Well, I personally prefer small but effective names.  \n",
    "\n",
    "<b>But the movie never ends without witnessing any villians. So it is required to witness villians of our data.</b>\n",
    "\n",
    "\n",
    "## Missing Data Study\n"
   ]
  },
  {
   "cell_type": "code",
   "execution_count": null,
   "metadata": {},
   "outputs": [],
   "source": [
    "#Visualising missing data\n",
    "missing = msno.matrix(storedata.sample(250))"
   ]
  }
 ],
 "metadata": {
  "kernelspec": {
   "display_name": "Python 3",
   "language": "python",
   "name": "python3"
  },
  "language_info": {
   "codemirror_mode": {
    "name": "ipython",
    "version": 3
   },
   "file_extension": ".py",
   "mimetype": "text/x-python",
   "name": "python",
   "nbconvert_exporter": "python",
   "pygments_lexer": "ipython3",
   "version": "3.5.6"
  }
 },
 "nbformat": 4,
 "nbformat_minor": 2
}
